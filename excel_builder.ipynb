{
 "cells": [
  {
   "cell_type": "code",
   "execution_count": 144,
   "metadata": {},
   "outputs": [
    {
     "name": "stdout",
     "output_type": "stream",
     "text": [
      "The autoreload extension is already loaded. To reload it, use:\n",
      "  %reload_ext autoreload\n"
     ]
    }
   ],
   "source": [
    "# %pip install openpyxl\n",
    "# %pip install --upgrade openpyxl\n",
    "\n",
    "%load_ext autoreload\n",
    "%autoreload 2"
   ]
  },
  {
   "cell_type": "code",
   "execution_count": 123,
   "metadata": {},
   "outputs": [],
   "source": [
    "import sys\n",
    "import openpyxl\n",
    "from openpyxl import Workbook\n",
    "from openpyxl.worksheet.table import Table, TableStyleInfo\n",
    "from openpyxl.styles import NamedStyle, PatternFill, Border, Side, Alignment, Protection, Font\n",
    "# sys.path.insert(1, '../')\n",
    "\n",
    "from excel_builder import create_workbook\n",
    "from excel_builder import create_worksheet"
   ]
  },
  {
   "cell_type": "code",
   "execution_count": 8,
   "metadata": {},
   "outputs": [],
   "source": [
    "workbook = create_workbook()\n",
    "worksheet = create_worksheet(workbook, sheet_title=\"Sheet1\")"
   ]
  },
  {
   "cell_type": "code",
   "execution_count": 61,
   "metadata": {},
   "outputs": [],
   "source": [
    "def create_workbook():\n",
    "    workbook = Workbook()\n",
    "    return workbook\n",
    "\n",
    "def create_worksheet(workbook, sheet_title=\"Sheet1\"):\n",
    "    worksheet = workbook.create_sheet(title=sheet_title)\n",
    "    return worksheet\n",
    "\n",
    "def apply_style(cell, font=None, fill=None, alignment=None):\n",
    "    if font:\n",
    "        cell.font = font\n",
    "    if fill:\n",
    "        cell.fill = fill\n",
    "    if alignment:\n",
    "        cell.alignment = alignment\n",
    "\n",
    "def create_styles(workbook):\n",
    "    # Define styles\n",
    "    bold_font = Font(bold=True)\n",
    "    red_fill = PatternFill(start_color='FFFF0000', end_color='FFFF0000', fill_type='solid')\n",
    "    center_alignment = Alignment(horizontal='center', vertical='center')\n",
    "\n",
    "    # Store styles in a dictionary for easy reference\n",
    "    styles = {\n",
    "        'bold_font': bold_font,\n",
    "        'red_fill': red_fill,\n",
    "        'center_alignment': center_alignment\n",
    "    }\n",
    "\n",
    "    return styles\n",
    "\n",
    "def apply_style_group(cell, style_group):\n",
    "    # Apply a group of styles to a cell\n",
    "    for style in style_group:\n",
    "        apply_style(cell, style)\n",
    "\n",
    "\n",
    "def create_table(worksheet, start_row, start_col, end_row, end_col, table_name=\"Table1\"):\n",
    "    # Define a table\n",
    "    table_ref = f\"{worksheet.title}!{start_col}{start_row}:{end_col}{end_row}\"\n",
    "    table = Table(displayName=table_name, ref=table_ref)\n",
    "\n",
    "    # Add a TableStyleInfo to the table\n",
    "    style = TableStyleInfo(\n",
    "        name=\"TableStyleMedium9\", showFirstColumn=False,\n",
    "        showLastColumn=False, showRowStripes=True, showColumnStripes=True\n",
    "    )\n",
    "    table.tableStyleInfo = style\n",
    "\n",
    "    # Add the table to the worksheet\n",
    "    worksheet.add_table(table)\n",
    "\n",
    "\n",
    "def main():\n",
    "    # Create a new workbook and worksheet\n",
    "    workbook = create_workbook()\n",
    "    worksheet = create_worksheet(workbook)\n",
    "\n",
    "    # Create a group of styles\n",
    "    styles = create_styles(workbook)\n",
    "\n",
    "    # Apply styles to specific cells\n",
    "    cell_A1 = worksheet['A1']\n",
    "    apply_style_group(cell_A1, [styles['bold_font'], styles['red_fill'], styles['center_alignment']])\n",
    "    cell_B2 = worksheet['B2']\n",
    "    apply_style_group(cell_B2, [styles['bold_font'], styles['center_alignment']])\n",
    "\n",
    "    # Create a table in the worksheet\n",
    "    create_table(worksheet, start_row=1, start_col=1, end_row=5, end_col=3)\n",
    "\n",
    "    # Save the workbook\n",
    "    workbook.save(\"example.xlsx\")\n",
    "\n",
    "# if __name__ == \"__main__\":\n",
    "#     main()\n"
   ]
  },
  {
   "cell_type": "code",
   "execution_count": 62,
   "metadata": {},
   "outputs": [],
   "source": [
    "workbook = create_workbook()\n",
    "ws = create_worksheet(workbook, sheet_title = 'test_sheet')\n",
    "\n",
    "# # Create a group of styles\n",
    "# styles = create_styles(workbook)\n",
    "# \n",
    "# # Apply styles to specific cells\n",
    "# cell_A1 = worksheet['A1']\n",
    "# apply_style_group(cell_A1, [styles['bold_font'], styles['red_fill'], styles['center_alignment']])\n",
    "# cell_B2 = worksheet['B2']\n",
    "# apply_style_group(cell_B2, [styles['bold_font'], styles['center_alignment']])\n",
    "\n",
    "# # Create a table in the worksheet\n",
    "# create_table(worksheet, start_row=1, start_col=1, end_row=5, end_col=3)\n",
    "\n",
    "# # Save the workbook\n",
    "# workbook.save(\"example.xlsx\")"
   ]
  },
  {
   "cell_type": "code",
   "execution_count": 63,
   "metadata": {},
   "outputs": [],
   "source": [
    "ws['A1'].style = highlight\n",
    "# ws['A1'].style.fill"
   ]
  },
  {
   "cell_type": "code",
   "execution_count": 65,
   "metadata": {},
   "outputs": [],
   "source": [
    "# Save the workbook\n",
    "workbook.save(\"example.xlsx\")"
   ]
  },
  {
   "cell_type": "code",
   "execution_count": null,
   "metadata": {},
   "outputs": [],
   "source": []
  },
  {
   "cell_type": "code",
   "execution_count": 66,
   "metadata": {},
   "outputs": [
    {
     "ename": "ValueError",
     "evalue": "Colors must be aRGB hex values",
     "output_type": "error",
     "traceback": [
      "\u001b[1;31m---------------------------------------------------------------------------\u001b[0m",
      "\u001b[1;31mValueError\u001b[0m                                Traceback (most recent call last)",
      "Cell \u001b[1;32mIn[66], line 2\u001b[0m\n\u001b[0;32m      1\u001b[0m highlight \u001b[38;5;241m=\u001b[39m NamedStyle(name\u001b[38;5;241m=\u001b[39m\u001b[38;5;124m\"\u001b[39m\u001b[38;5;124mhighlight\u001b[39m\u001b[38;5;124m\"\u001b[39m)\n\u001b[1;32m----> 2\u001b[0m highlight\u001b[38;5;241m.\u001b[39mfill \u001b[38;5;241m=\u001b[39m \u001b[43mPatternFill\u001b[49m\u001b[43m(\u001b[49m\n\u001b[0;32m      3\u001b[0m \u001b[43m    \u001b[49m\u001b[43mfill_type\u001b[49m\u001b[38;5;241;43m=\u001b[39;49m\u001b[38;5;124;43m'\u001b[39;49m\u001b[38;5;124;43msolid\u001b[39;49m\u001b[38;5;124;43m'\u001b[39;49m\u001b[43m,\u001b[49m\n\u001b[0;32m      4\u001b[0m \u001b[43m    \u001b[49m\u001b[38;5;66;43;03m# fgColor=\"DDDDDD\",\u001b[39;49;00m\n\u001b[0;32m      5\u001b[0m \u001b[43m    \u001b[49m\u001b[38;5;66;43;03m# fgColor=\"00FFFF00\",\u001b[39;49;00m\n\u001b[0;32m      6\u001b[0m \u001b[43m    \u001b[49m\u001b[43mfgColor\u001b[49m\u001b[38;5;241;43m=\u001b[39;49m\u001b[38;5;124;43m'\u001b[39;49m\u001b[38;5;124;43myellow\u001b[39;49m\u001b[38;5;124;43m'\u001b[39;49m\u001b[43m,\u001b[49m\n\u001b[0;32m      7\u001b[0m \u001b[43m)\u001b[49m\n\u001b[0;32m      9\u001b[0m \u001b[38;5;66;03m# highlight.font = Font(bold=True, size=20)\u001b[39;00m\n\u001b[0;32m     10\u001b[0m \u001b[38;5;66;03m# bd = Side(style='thick', color=\"000000\")\u001b[39;00m\n\u001b[0;32m     11\u001b[0m \u001b[38;5;66;03m# highlight.border = Border(left=bd, top=bd, right=bd, bottom=bd)\u001b[39;00m\n\u001b[0;32m     12\u001b[0m \n\u001b[0;32m     13\u001b[0m \u001b[38;5;66;03m# 00FFFF00\u001b[39;00m\n",
      "File \u001b[1;32m~\\AppData\\Local\\Packages\\PythonSoftwareFoundation.Python.3.11_qbz5n2kfra8p0\\LocalCache\\local-packages\\Python311\\site-packages\\openpyxl\\styles\\fills.py:91\u001b[0m, in \u001b[0;36mPatternFill.__init__\u001b[1;34m(self, patternType, fgColor, bgColor, fill_type, start_color, end_color)\u001b[0m\n\u001b[0;32m     89\u001b[0m \u001b[38;5;28;01mif\u001b[39;00m start_color \u001b[38;5;129;01mis\u001b[39;00m \u001b[38;5;129;01mnot\u001b[39;00m \u001b[38;5;28;01mNone\u001b[39;00m:\n\u001b[0;32m     90\u001b[0m     fgColor \u001b[38;5;241m=\u001b[39m start_color\n\u001b[1;32m---> 91\u001b[0m \u001b[38;5;28;43mself\u001b[39;49m\u001b[38;5;241;43m.\u001b[39;49m\u001b[43mfgColor\u001b[49m \u001b[38;5;241m=\u001b[39m fgColor\n\u001b[0;32m     92\u001b[0m \u001b[38;5;28;01mif\u001b[39;00m end_color \u001b[38;5;129;01mis\u001b[39;00m \u001b[38;5;129;01mnot\u001b[39;00m \u001b[38;5;28;01mNone\u001b[39;00m:\n\u001b[0;32m     93\u001b[0m     bgColor \u001b[38;5;241m=\u001b[39m end_color\n",
      "File \u001b[1;32m~\\AppData\\Local\\Packages\\PythonSoftwareFoundation.Python.3.11_qbz5n2kfra8p0\\LocalCache\\local-packages\\Python311\\site-packages\\openpyxl\\styles\\colors.py:133\u001b[0m, in \u001b[0;36mColorDescriptor.__set__\u001b[1;34m(self, instance, value)\u001b[0m\n\u001b[0;32m    131\u001b[0m \u001b[38;5;28;01mdef\u001b[39;00m \u001b[38;5;21m__set__\u001b[39m(\u001b[38;5;28mself\u001b[39m, instance, value):\n\u001b[0;32m    132\u001b[0m     \u001b[38;5;28;01mif\u001b[39;00m \u001b[38;5;28misinstance\u001b[39m(value, \u001b[38;5;28mstr\u001b[39m):\n\u001b[1;32m--> 133\u001b[0m         value \u001b[38;5;241m=\u001b[39m \u001b[43mColor\u001b[49m\u001b[43m(\u001b[49m\u001b[43mrgb\u001b[49m\u001b[38;5;241;43m=\u001b[39;49m\u001b[43mvalue\u001b[49m\u001b[43m)\u001b[49m\n\u001b[0;32m    134\u001b[0m     \u001b[38;5;28msuper\u001b[39m(ColorDescriptor, \u001b[38;5;28mself\u001b[39m)\u001b[38;5;241m.\u001b[39m\u001b[38;5;21m__set__\u001b[39m(instance, value)\n",
      "File \u001b[1;32m~\\AppData\\Local\\Packages\\PythonSoftwareFoundation.Python.3.11_qbz5n2kfra8p0\\LocalCache\\local-packages\\Python311\\site-packages\\openpyxl\\styles\\colors.py:93\u001b[0m, in \u001b[0;36mColor.__init__\u001b[1;34m(self, rgb, indexed, auto, theme, tint, index, type)\u001b[0m\n\u001b[0;32m     91\u001b[0m     \u001b[38;5;28mself\u001b[39m\u001b[38;5;241m.\u001b[39mauto \u001b[38;5;241m=\u001b[39m auto\n\u001b[0;32m     92\u001b[0m \u001b[38;5;28;01melse\u001b[39;00m:\n\u001b[1;32m---> 93\u001b[0m     \u001b[38;5;28;43mself\u001b[39;49m\u001b[38;5;241;43m.\u001b[39;49m\u001b[43mrgb\u001b[49m \u001b[38;5;241m=\u001b[39m rgb\n\u001b[0;32m     94\u001b[0m     \u001b[38;5;28mself\u001b[39m\u001b[38;5;241m.\u001b[39mtype \u001b[38;5;241m=\u001b[39m \u001b[38;5;124m'\u001b[39m\u001b[38;5;124mrgb\u001b[39m\u001b[38;5;124m'\u001b[39m\n\u001b[0;32m     95\u001b[0m \u001b[38;5;28mself\u001b[39m\u001b[38;5;241m.\u001b[39mtint \u001b[38;5;241m=\u001b[39m tint\n",
      "File \u001b[1;32m~\\AppData\\Local\\Packages\\PythonSoftwareFoundation.Python.3.11_qbz5n2kfra8p0\\LocalCache\\local-packages\\Python311\\site-packages\\openpyxl\\styles\\colors.py:61\u001b[0m, in \u001b[0;36mRGB.__set__\u001b[1;34m(self, instance, value)\u001b[0m\n\u001b[0;32m     59\u001b[0m m \u001b[38;5;241m=\u001b[39m aRGB_REGEX\u001b[38;5;241m.\u001b[39mmatch(value)\n\u001b[0;32m     60\u001b[0m \u001b[38;5;28;01mif\u001b[39;00m m \u001b[38;5;129;01mis\u001b[39;00m \u001b[38;5;28;01mNone\u001b[39;00m:\n\u001b[1;32m---> 61\u001b[0m     \u001b[38;5;28;01mraise\u001b[39;00m \u001b[38;5;167;01mValueError\u001b[39;00m(\u001b[38;5;124m\"\u001b[39m\u001b[38;5;124mColors must be aRGB hex values\u001b[39m\u001b[38;5;124m\"\u001b[39m)\n\u001b[0;32m     62\u001b[0m \u001b[38;5;28;01mif\u001b[39;00m \u001b[38;5;28mlen\u001b[39m(value) \u001b[38;5;241m==\u001b[39m \u001b[38;5;241m6\u001b[39m:\n\u001b[0;32m     63\u001b[0m     value \u001b[38;5;241m=\u001b[39m \u001b[38;5;124m\"\u001b[39m\u001b[38;5;124m00\u001b[39m\u001b[38;5;124m\"\u001b[39m \u001b[38;5;241m+\u001b[39m value\n",
      "\u001b[1;31mValueError\u001b[0m: Colors must be aRGB hex values"
     ]
    }
   ],
   "source": [
    "highlight = NamedStyle(name=\"highlight\")\n",
    "highlight.fill = PatternFill(\n",
    "    fill_type='solid',\n",
    "    # fgColor=\"DDDDDD\",\n",
    "    fgColor=\"00FFFF00\",\n",
    ")\n",
    "\n",
    "# highlight.font = Font(bold=True, size=20)\n",
    "# bd = Side(style='thick', color=\"000000\")\n",
    "# highlight.border = Border(left=bd, top=bd, right=bd, bottom=bd)\n",
    "\n",
    "# 00FFFF00\n"
   ]
  },
  {
   "cell_type": "code",
   "execution_count": null,
   "metadata": {},
   "outputs": [],
   "source": [
    "\n",
    "font = Font(name='Calibri',\n",
    "                size=11,\n",
    "                bold=False,\n",
    "                italic=False,\n",
    "                vertAlign=None,\n",
    "                underline='none',\n",
    "                strike=False,\n",
    "                color='FF000000')\n",
    "fill = PatternFill(fill_type=None,\n",
    "                start_color='FFFFFFFF',\n",
    "                end_color='FF000000')\n",
    "border = Border(left=Side(border_style=None,\n",
    "                          color='FF000000'),\n",
    "                right=Side(border_style=None,\n",
    "                           color='FF000000'),\n",
    "                top=Side(border_style=None,\n",
    "                         color='FF000000'),\n",
    "                bottom=Side(border_style=None,\n",
    "                            color='FF000000'),\n",
    "                diagonal=Side(border_style=None,\n",
    "                              color='FF000000'),\n",
    "                diagonal_direction=0,\n",
    "                outline=Side(border_style=None,\n",
    "                             color='FF000000'),\n",
    "                vertical=Side(border_style=None,\n",
    "                              color='FF000000'),\n",
    "                horizontal=Side(border_style=None,\n",
    "                               color='FF000000')\n",
    "               )\n",
    "alignment=Alignment(horizontal='general',\n",
    "                    vertical='bottom',\n",
    "                    text_rotation=0,\n",
    "                    wrap_text=False,\n",
    "                    shrink_to_fit=False,\n",
    "                    indent=0)\n",
    "number_format = 'General'\n",
    "protection = Protection(locked=True,\n",
    "                        hidden=False)\n"
   ]
  },
  {
   "cell_type": "code",
   "execution_count": 67,
   "metadata": {},
   "outputs": [],
   "source": [
    "from openpyxl import Workbook\n",
    "from openpyxl.worksheet.table import Table, TableStyleInfo\n",
    "\n",
    "wb = Workbook()\n",
    "ws = wb.active\n",
    "\n",
    "data = [\n",
    "    ['Apples', 10000, 5000, 8000, 6000],\n",
    "    ['Pears',   2000, 3000, 4000, 5000],\n",
    "    ['Bananas', 6000, 6000, 6500, 6000],\n",
    "    ['Oranges',  500,  300,  200,  700],\n",
    "]\n",
    "\n",
    "# add column headings. NB. these must be strings\n",
    "ws.append([\"Fruit\", \"2011\", \"2012\", \"2013\", \"2014\"])\n",
    "for row in data:\n",
    "    ws.append(row)\n",
    "\n",
    "tab = Table(displayName=\"Table1\", ref=\"A1:E5\")\n",
    "\n",
    "# Add a default style with striped rows and banded columns\n",
    "style = TableStyleInfo(name=\"TableStyleMedium9\", showFirstColumn=False,\n",
    "                       showLastColumn=False, showRowStripes=True, showColumnStripes=True)\n",
    "tab.tableStyleInfo = style\n",
    "\n",
    "'''\n",
    "Table must be added using ws.add_table() method to avoid duplicate names.\n",
    "Using this method ensures table name is unque through out defined names and all other table name. \n",
    "'''\n",
    "ws.add_table(tab)\n",
    "wb.save(\"table.xlsx\")"
   ]
  },
  {
   "cell_type": "markdown",
   "metadata": {},
   "source": [
    "# Add table"
   ]
  },
  {
   "cell_type": "code",
   "execution_count": 173,
   "metadata": {},
   "outputs": [],
   "source": [
    "import pandas as pd\n",
    "from openpyxl import Workbook, load_workbook\n",
    "from openpyxl.worksheet.table import Table, TableStyleInfo\n",
    "\n",
    "from table_fns import first_row_to_string\n",
    "from table_fns import get_excel_cell\n",
    "from table_fns import excel_table\n",
    "from table_fns import add_table"
   ]
  },
  {
   "cell_type": "code",
   "execution_count": 174,
   "metadata": {},
   "outputs": [],
   "source": [
    "# Arguments to function:\n",
    "data = [\n",
    "    [\"Fruit\", 2011, 2012, 2013, 2014],\n",
    "    ['Apples', 10000, 5000, 8000, 6000],\n",
    "    ['Pears',   2000, 3000, 4000, 5000],\n",
    "    ['Bananas', 6000, 6000, 6500, 6000],\n",
    "    ['Oranges',  500,  300,  200,  700],\n",
    "    ['Oranges',  500,  300,  200,  700],\n",
    "    ['Oranges',  500,  300,  200,  700],\n",
    "    ['Oranges',  500,  300,  200,  700],\n",
    "]\n",
    "\n",
    "# Extract the first row as headers\n",
    "headers = data[0]\n",
    "\n",
    "# Create a DataFrame excluding the first row\n",
    "df = pd.DataFrame(data[1:], columns=headers)\n",
    "\n",
    "add_table(\n",
    "    df=df,\n",
    "    sheet_name='testing',\n",
    "    displayName=\"Table3\",\n",
    "    file_path='tst9.xlsx',\n",
    ")"
   ]
  },
  {
   "cell_type": "code",
   "execution_count": null,
   "metadata": {},
   "outputs": [],
   "source": [
    "tab = Table(displayName=\"Table1\", ref=\"A1:E5\")\n",
    "\n",
    "# Add a default style with striped rows and banded columns\n",
    "style = TableStyleInfo(name=\"TableStyleMedium9\", showFirstColumn=False,\n",
    "                       showLastColumn=False, showRowStripes=True, showColumnStripes=True)\n",
    "tab.tableStyleInfo = style\n",
    "\n",
    "'''\n",
    "Table must be added using ws.add_table() method to avoid duplicate names.\n",
    "Using this method ensures table name is unque through out defined names and all other table name. \n",
    "'''\n",
    "ws.add_table(tab)\n"
   ]
  },
  {
   "cell_type": "code",
   "execution_count": null,
   "metadata": {},
   "outputs": [],
   "source": [
    "# Get the existing sheet\n",
    "existing_sheet = existing_wb[sheet_name]\n",
    "\n",
    "# Get the maximum row number in the existing sheet\n",
    "max_row = existing_sheet.max_row\n",
    "\n",
    "# Write the DataFrame to the existing sheet starting from the next row\n",
    "with pd.ExcelWriter(\"existing_workbook.xlsx\", engine='openpyxl', mode='a') as writer:\n",
    "    writer.book = existing_wb\n",
    "    df.to_excel(writer, index=False, header=False, startrow=max_row)\n",
    "\n",
    "# Save the changes to the existing workbook\n",
    "existing_wb.save(\"existing_workbook.xlsx\")"
   ]
  },
  {
   "cell_type": "code",
   "execution_count": null,
   "metadata": {},
   "outputs": [],
   "source": []
  },
  {
   "cell_type": "code",
   "execution_count": null,
   "metadata": {},
   "outputs": [],
   "source": []
  },
  {
   "cell_type": "code",
   "execution_count": null,
   "metadata": {},
   "outputs": [],
   "source": [
    "wb.save(\"table.xlsx\")"
   ]
  },
  {
   "cell_type": "code",
   "execution_count": 80,
   "metadata": {},
   "outputs": [],
   "source": [
    "wb = Workbook()\n",
    "ws = wb.active\n",
    "for row in data:\n",
    "    ws.append(row)"
   ]
  },
  {
   "cell_type": "code",
   "execution_count": 81,
   "metadata": {},
   "outputs": [
    {
     "name": "stdout",
     "output_type": "stream",
     "text": [
      "First Cell: A1\n",
      "Last Cell: E5\n"
     ]
    }
   ],
   "source": [
    "# Get the coordinates of the first and last cells\n",
    "first_cell = ws.cell(row=1, column=1).coordinate\n",
    "last_row = ws.max_row\n",
    "last_column = ws.max_column\n",
    "last_cell = ws.cell(row=last_row, column=last_column).coordinate\n",
    "\n",
    "print(\"First Cell:\", first_cell)\n",
    "print(\"Last Cell:\", last_cell)\n"
   ]
  },
  {
   "cell_type": "code",
   "execution_count": null,
   "metadata": {},
   "outputs": [],
   "source": [
    "wb = Workbook()\n",
    "ws = wb.active\n",
    "for row in data:\n",
    "    ws.append(row)\n",
    "\n",
    "tab = Table(displayName=\"Table1\", ref=\"A1:E5\")\n",
    "\n",
    "# Add a default style with striped rows and banded columns\n",
    "style = TableStyleInfo(name=\"TableStyleMedium9\", showFirstColumn=False,\n",
    "                       showLastColumn=False, showRowStripes=True, showColumnStripes=True)\n",
    "tab.tableStyleInfo = style\n",
    "\n",
    "'''\n",
    "Table must be added using ws.add_table() method to avoid duplicate names.\n",
    "Using this method ensures table name is unque through out defined names and all other table name. \n",
    "'''\n",
    "ws.add_table(tab)\n",
    "wb.save(\"table.xlsx\")"
   ]
  },
  {
   "cell_type": "markdown",
   "metadata": {},
   "source": [
    "# Multi-tables"
   ]
  },
  {
   "cell_type": "code",
   "execution_count": null,
   "metadata": {},
   "outputs": [],
   "source": [
    "# Multi-tables\n",
    "import pandas as pd\n",
    "from openpyxl import load_workbook\n",
    "\n",
    "data = [\n",
    "    [\"Fruit\", 2011, 2012, 2013, 2014],\n",
    "    ['Apples', 10000, 5000, 8000, 6000],\n",
    "    ['Pears',   2000, 3000, 4000, 5000],\n",
    "    ['Bananas', 6000, 6000, 6500, 6000],\n",
    "    ['Oranges',  500,  300,  200,  700],\n",
    "]\n",
    "\n",
    "# Create a DataFrame from the data\n",
    "df = pd.DataFrame(data)\n",
    "\n",
    "# Convert column names to strings\n",
    "df.columns = df.columns.astype(str)\n",
    "\n",
    "# Load the existing workbook\n",
    "existing_wb = load_workbook(\"existing_workbook.xlsx\")\n",
    "\n",
    "# Specify the sheet name where you want to append the DataFrame\n",
    "sheet_name = \"Sheet1\"  # Replace with the actual sheet name\n",
    "\n",
    "# Get the existing sheet\n",
    "existing_sheet = existing_wb[sheet_name]\n",
    "\n",
    "# Get the maximum row number in the existing sheet\n",
    "max_row = existing_sheet.max_row\n",
    "\n",
    "# Write the DataFrame to the existing sheet starting from the next row\n",
    "with pd.ExcelWriter(\"existing_workbook.xlsx\", engine='openpyxl', mode='a') as writer:\n",
    "    writer.book = existing_wb\n",
    "    df.to_excel(writer, index=False, header=False, startrow=max_row)\n",
    "\n",
    "# Save the changes to the existing workbook\n",
    "existing_wb.save(\"existing_workbook.xlsx\")\n"
   ]
  }
 ],
 "metadata": {
  "kernelspec": {
   "display_name": "Python 3",
   "language": "python",
   "name": "python3"
  },
  "language_info": {
   "codemirror_mode": {
    "name": "ipython",
    "version": 3
   },
   "file_extension": ".py",
   "mimetype": "text/x-python",
   "name": "python",
   "nbconvert_exporter": "python",
   "pygments_lexer": "ipython3",
   "version": "3.11.7"
  }
 },
 "nbformat": 4,
 "nbformat_minor": 2
}
